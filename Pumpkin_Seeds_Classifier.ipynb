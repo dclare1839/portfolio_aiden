{
 "cells": [
  {
   "cell_type": "code",
   "execution_count": 2,
   "id": "b38f3ef9",
   "metadata": {},
   "outputs": [],
   "source": [
    "import numpy as np #linear algebra\n",
    "import pandas as pd"
   ]
  },
  {
   "cell_type": "code",
   "execution_count": 3,
   "id": "9cd826dd",
   "metadata": {},
   "outputs": [
    {
     "data": {
      "text/html": [
       "<div>\n",
       "<style scoped>\n",
       "    .dataframe tbody tr th:only-of-type {\n",
       "        vertical-align: middle;\n",
       "    }\n",
       "\n",
       "    .dataframe tbody tr th {\n",
       "        vertical-align: top;\n",
       "    }\n",
       "\n",
       "    .dataframe thead th {\n",
       "        text-align: right;\n",
       "    }\n",
       "</style>\n",
       "<table border=\"1\" class=\"dataframe\">\n",
       "  <thead>\n",
       "    <tr style=\"text-align: right;\">\n",
       "      <th></th>\n",
       "      <th>Area</th>\n",
       "      <th>Perimeter</th>\n",
       "      <th>Major_Axis_Length</th>\n",
       "      <th>Minor_Axis_Length</th>\n",
       "      <th>Convex_Area</th>\n",
       "      <th>Equiv_Diameter</th>\n",
       "      <th>Eccentricity</th>\n",
       "      <th>Solidity</th>\n",
       "      <th>Extent</th>\n",
       "      <th>Roundness</th>\n",
       "      <th>Aspect_Ration</th>\n",
       "      <th>Compactness</th>\n",
       "      <th>Class</th>\n",
       "    </tr>\n",
       "  </thead>\n",
       "  <tbody>\n",
       "    <tr>\n",
       "      <th>0</th>\n",
       "      <td>56276</td>\n",
       "      <td>888.242</td>\n",
       "      <td>326.1485</td>\n",
       "      <td>220.2388</td>\n",
       "      <td>56831</td>\n",
       "      <td>267.6805</td>\n",
       "      <td>0.7376</td>\n",
       "      <td>0.9902</td>\n",
       "      <td>0.7453</td>\n",
       "      <td>0.8963</td>\n",
       "      <td>1.4809</td>\n",
       "      <td>0.8207</td>\n",
       "      <td>Çerçevelik</td>\n",
       "    </tr>\n",
       "    <tr>\n",
       "      <th>1</th>\n",
       "      <td>76631</td>\n",
       "      <td>1068.146</td>\n",
       "      <td>417.1932</td>\n",
       "      <td>234.2289</td>\n",
       "      <td>77280</td>\n",
       "      <td>312.3614</td>\n",
       "      <td>0.8275</td>\n",
       "      <td>0.9916</td>\n",
       "      <td>0.7151</td>\n",
       "      <td>0.8440</td>\n",
       "      <td>1.7811</td>\n",
       "      <td>0.7487</td>\n",
       "      <td>Çerçevelik</td>\n",
       "    </tr>\n",
       "    <tr>\n",
       "      <th>2</th>\n",
       "      <td>71623</td>\n",
       "      <td>1082.987</td>\n",
       "      <td>435.8328</td>\n",
       "      <td>211.0457</td>\n",
       "      <td>72663</td>\n",
       "      <td>301.9822</td>\n",
       "      <td>0.8749</td>\n",
       "      <td>0.9857</td>\n",
       "      <td>0.7400</td>\n",
       "      <td>0.7674</td>\n",
       "      <td>2.0651</td>\n",
       "      <td>0.6929</td>\n",
       "      <td>Çerçevelik</td>\n",
       "    </tr>\n",
       "    <tr>\n",
       "      <th>3</th>\n",
       "      <td>66458</td>\n",
       "      <td>992.051</td>\n",
       "      <td>381.5638</td>\n",
       "      <td>222.5322</td>\n",
       "      <td>67118</td>\n",
       "      <td>290.8899</td>\n",
       "      <td>0.8123</td>\n",
       "      <td>0.9902</td>\n",
       "      <td>0.7396</td>\n",
       "      <td>0.8486</td>\n",
       "      <td>1.7146</td>\n",
       "      <td>0.7624</td>\n",
       "      <td>Çerçevelik</td>\n",
       "    </tr>\n",
       "    <tr>\n",
       "      <th>4</th>\n",
       "      <td>66107</td>\n",
       "      <td>998.146</td>\n",
       "      <td>383.8883</td>\n",
       "      <td>220.4545</td>\n",
       "      <td>67117</td>\n",
       "      <td>290.1207</td>\n",
       "      <td>0.8187</td>\n",
       "      <td>0.9850</td>\n",
       "      <td>0.6752</td>\n",
       "      <td>0.8338</td>\n",
       "      <td>1.7413</td>\n",
       "      <td>0.7557</td>\n",
       "      <td>Çerçevelik</td>\n",
       "    </tr>\n",
       "  </tbody>\n",
       "</table>\n",
       "</div>"
      ],
      "text/plain": [
       "    Area  Perimeter  Major_Axis_Length  Minor_Axis_Length  Convex_Area  \\\n",
       "0  56276    888.242           326.1485           220.2388        56831   \n",
       "1  76631   1068.146           417.1932           234.2289        77280   \n",
       "2  71623   1082.987           435.8328           211.0457        72663   \n",
       "3  66458    992.051           381.5638           222.5322        67118   \n",
       "4  66107    998.146           383.8883           220.4545        67117   \n",
       "\n",
       "   Equiv_Diameter  Eccentricity  Solidity  Extent  Roundness  Aspect_Ration  \\\n",
       "0        267.6805        0.7376    0.9902  0.7453     0.8963         1.4809   \n",
       "1        312.3614        0.8275    0.9916  0.7151     0.8440         1.7811   \n",
       "2        301.9822        0.8749    0.9857  0.7400     0.7674         2.0651   \n",
       "3        290.8899        0.8123    0.9902  0.7396     0.8486         1.7146   \n",
       "4        290.1207        0.8187    0.9850  0.6752     0.8338         1.7413   \n",
       "\n",
       "   Compactness       Class  \n",
       "0       0.8207  Çerçevelik  \n",
       "1       0.7487  Çerçevelik  \n",
       "2       0.6929  Çerçevelik  \n",
       "3       0.7624  Çerçevelik  \n",
       "4       0.7557  Çerçevelik  "
      ]
     },
     "execution_count": 3,
     "metadata": {},
     "output_type": "execute_result"
    }
   ],
   "source": [
    "pumpkin = pd.read_excel('/Users/seungwooseo/Desktop/Python/Kaggle/Pumpkin/Pumpkin_Seeds_Dataset/Pumpkin_Seeds_Dataset.xlsx')\n",
    "pumpkin.head()"
   ]
  },
  {
   "cell_type": "code",
   "execution_count": 4,
   "id": "f28f9543",
   "metadata": {},
   "outputs": [
    {
     "data": {
      "text/html": [
       "<div>\n",
       "<style scoped>\n",
       "    .dataframe tbody tr th:only-of-type {\n",
       "        vertical-align: middle;\n",
       "    }\n",
       "\n",
       "    .dataframe tbody tr th {\n",
       "        vertical-align: top;\n",
       "    }\n",
       "\n",
       "    .dataframe thead th {\n",
       "        text-align: right;\n",
       "    }\n",
       "</style>\n",
       "<table border=\"1\" class=\"dataframe\">\n",
       "  <thead>\n",
       "    <tr style=\"text-align: right;\">\n",
       "      <th></th>\n",
       "      <th>Area</th>\n",
       "      <th>Perimeter</th>\n",
       "      <th>Major_Axis_Length</th>\n",
       "      <th>Minor_Axis_Length</th>\n",
       "      <th>Convex_Area</th>\n",
       "      <th>Equiv_Diameter</th>\n",
       "      <th>Eccentricity</th>\n",
       "      <th>Solidity</th>\n",
       "      <th>Extent</th>\n",
       "      <th>Roundness</th>\n",
       "      <th>Aspect_Ration</th>\n",
       "      <th>Compactness</th>\n",
       "    </tr>\n",
       "  </thead>\n",
       "  <tbody>\n",
       "    <tr>\n",
       "      <th>count</th>\n",
       "      <td>2500.000000</td>\n",
       "      <td>2500.000000</td>\n",
       "      <td>2500.000000</td>\n",
       "      <td>2500.000000</td>\n",
       "      <td>2500.000000</td>\n",
       "      <td>2500.000000</td>\n",
       "      <td>2500.000000</td>\n",
       "      <td>2500.000000</td>\n",
       "      <td>2500.000000</td>\n",
       "      <td>2500.000000</td>\n",
       "      <td>2500.000000</td>\n",
       "      <td>2500.000000</td>\n",
       "    </tr>\n",
       "    <tr>\n",
       "      <th>mean</th>\n",
       "      <td>80658.220800</td>\n",
       "      <td>1130.279015</td>\n",
       "      <td>456.601840</td>\n",
       "      <td>225.794921</td>\n",
       "      <td>81508.084400</td>\n",
       "      <td>319.334230</td>\n",
       "      <td>0.860879</td>\n",
       "      <td>0.989492</td>\n",
       "      <td>0.693205</td>\n",
       "      <td>0.791533</td>\n",
       "      <td>2.041702</td>\n",
       "      <td>0.704121</td>\n",
       "    </tr>\n",
       "    <tr>\n",
       "      <th>std</th>\n",
       "      <td>13664.510228</td>\n",
       "      <td>109.256418</td>\n",
       "      <td>56.235704</td>\n",
       "      <td>23.297245</td>\n",
       "      <td>13764.092788</td>\n",
       "      <td>26.891920</td>\n",
       "      <td>0.045167</td>\n",
       "      <td>0.003494</td>\n",
       "      <td>0.060914</td>\n",
       "      <td>0.055924</td>\n",
       "      <td>0.315997</td>\n",
       "      <td>0.053067</td>\n",
       "    </tr>\n",
       "    <tr>\n",
       "      <th>min</th>\n",
       "      <td>47939.000000</td>\n",
       "      <td>868.485000</td>\n",
       "      <td>320.844600</td>\n",
       "      <td>152.171800</td>\n",
       "      <td>48366.000000</td>\n",
       "      <td>247.058400</td>\n",
       "      <td>0.492100</td>\n",
       "      <td>0.918600</td>\n",
       "      <td>0.468000</td>\n",
       "      <td>0.554600</td>\n",
       "      <td>1.148700</td>\n",
       "      <td>0.560800</td>\n",
       "    </tr>\n",
       "    <tr>\n",
       "      <th>25%</th>\n",
       "      <td>70765.000000</td>\n",
       "      <td>1048.829750</td>\n",
       "      <td>414.957850</td>\n",
       "      <td>211.245925</td>\n",
       "      <td>71512.000000</td>\n",
       "      <td>300.167975</td>\n",
       "      <td>0.831700</td>\n",
       "      <td>0.988300</td>\n",
       "      <td>0.658900</td>\n",
       "      <td>0.751900</td>\n",
       "      <td>1.801050</td>\n",
       "      <td>0.663475</td>\n",
       "    </tr>\n",
       "    <tr>\n",
       "      <th>50%</th>\n",
       "      <td>79076.000000</td>\n",
       "      <td>1123.672000</td>\n",
       "      <td>449.496600</td>\n",
       "      <td>224.703100</td>\n",
       "      <td>79872.000000</td>\n",
       "      <td>317.305350</td>\n",
       "      <td>0.863700</td>\n",
       "      <td>0.990300</td>\n",
       "      <td>0.713050</td>\n",
       "      <td>0.797750</td>\n",
       "      <td>1.984200</td>\n",
       "      <td>0.707700</td>\n",
       "    </tr>\n",
       "    <tr>\n",
       "      <th>75%</th>\n",
       "      <td>89757.500000</td>\n",
       "      <td>1203.340500</td>\n",
       "      <td>492.737650</td>\n",
       "      <td>240.672875</td>\n",
       "      <td>90797.750000</td>\n",
       "      <td>338.057375</td>\n",
       "      <td>0.897025</td>\n",
       "      <td>0.991500</td>\n",
       "      <td>0.740225</td>\n",
       "      <td>0.834325</td>\n",
       "      <td>2.262075</td>\n",
       "      <td>0.743500</td>\n",
       "    </tr>\n",
       "    <tr>\n",
       "      <th>max</th>\n",
       "      <td>136574.000000</td>\n",
       "      <td>1559.450000</td>\n",
       "      <td>661.911300</td>\n",
       "      <td>305.818000</td>\n",
       "      <td>138384.000000</td>\n",
       "      <td>417.002900</td>\n",
       "      <td>0.948100</td>\n",
       "      <td>0.994400</td>\n",
       "      <td>0.829600</td>\n",
       "      <td>0.939600</td>\n",
       "      <td>3.144400</td>\n",
       "      <td>0.904900</td>\n",
       "    </tr>\n",
       "  </tbody>\n",
       "</table>\n",
       "</div>"
      ],
      "text/plain": [
       "                Area    Perimeter  Major_Axis_Length  Minor_Axis_Length  \\\n",
       "count    2500.000000  2500.000000        2500.000000        2500.000000   \n",
       "mean    80658.220800  1130.279015         456.601840         225.794921   \n",
       "std     13664.510228   109.256418          56.235704          23.297245   \n",
       "min     47939.000000   868.485000         320.844600         152.171800   \n",
       "25%     70765.000000  1048.829750         414.957850         211.245925   \n",
       "50%     79076.000000  1123.672000         449.496600         224.703100   \n",
       "75%     89757.500000  1203.340500         492.737650         240.672875   \n",
       "max    136574.000000  1559.450000         661.911300         305.818000   \n",
       "\n",
       "         Convex_Area  Equiv_Diameter  Eccentricity     Solidity       Extent  \\\n",
       "count    2500.000000     2500.000000   2500.000000  2500.000000  2500.000000   \n",
       "mean    81508.084400      319.334230      0.860879     0.989492     0.693205   \n",
       "std     13764.092788       26.891920      0.045167     0.003494     0.060914   \n",
       "min     48366.000000      247.058400      0.492100     0.918600     0.468000   \n",
       "25%     71512.000000      300.167975      0.831700     0.988300     0.658900   \n",
       "50%     79872.000000      317.305350      0.863700     0.990300     0.713050   \n",
       "75%     90797.750000      338.057375      0.897025     0.991500     0.740225   \n",
       "max    138384.000000      417.002900      0.948100     0.994400     0.829600   \n",
       "\n",
       "         Roundness  Aspect_Ration  Compactness  \n",
       "count  2500.000000    2500.000000  2500.000000  \n",
       "mean      0.791533       2.041702     0.704121  \n",
       "std       0.055924       0.315997     0.053067  \n",
       "min       0.554600       1.148700     0.560800  \n",
       "25%       0.751900       1.801050     0.663475  \n",
       "50%       0.797750       1.984200     0.707700  \n",
       "75%       0.834325       2.262075     0.743500  \n",
       "max       0.939600       3.144400     0.904900  "
      ]
     },
     "execution_count": 4,
     "metadata": {},
     "output_type": "execute_result"
    }
   ],
   "source": [
    "pumpkin.describe()"
   ]
  },
  {
   "cell_type": "code",
   "execution_count": 5,
   "id": "9f75acd6",
   "metadata": {},
   "outputs": [
    {
     "name": "stdout",
     "output_type": "stream",
     "text": [
      "<class 'pandas.core.frame.DataFrame'>\n",
      "RangeIndex: 2500 entries, 0 to 2499\n",
      "Data columns (total 13 columns):\n",
      " #   Column             Non-Null Count  Dtype  \n",
      "---  ------             --------------  -----  \n",
      " 0   Area               2500 non-null   int64  \n",
      " 1   Perimeter          2500 non-null   float64\n",
      " 2   Major_Axis_Length  2500 non-null   float64\n",
      " 3   Minor_Axis_Length  2500 non-null   float64\n",
      " 4   Convex_Area        2500 non-null   int64  \n",
      " 5   Equiv_Diameter     2500 non-null   float64\n",
      " 6   Eccentricity       2500 non-null   float64\n",
      " 7   Solidity           2500 non-null   float64\n",
      " 8   Extent             2500 non-null   float64\n",
      " 9   Roundness          2500 non-null   float64\n",
      " 10  Aspect_Ration      2500 non-null   float64\n",
      " 11  Compactness        2500 non-null   float64\n",
      " 12  Class              2500 non-null   object \n",
      "dtypes: float64(10), int64(2), object(1)\n",
      "memory usage: 254.0+ KB\n"
     ]
    }
   ],
   "source": [
    "pumpkin.info()"
   ]
  },
  {
   "cell_type": "code",
   "execution_count": 6,
   "id": "680b3f47",
   "metadata": {},
   "outputs": [],
   "source": [
    "from sklearn.metrics import accuracy_score\n",
    "from sklearn.preprocessing import LabelEncoder, StandardScaler\n",
    "from sklearn.linear_model import LogisticRegression\n",
    "from sklearn.ensemble import RandomForestClassifier\n",
    "from sklearn.tree import DecisionTreeClassifier\n",
    "from sklearn.svm import SVC\n",
    "from sklearn.neighbors import KNeighborsClassifier\n",
    "from sklearn.model_selection import cross_validate"
   ]
  },
  {
   "cell_type": "code",
   "execution_count": 9,
   "id": "ea7a8bff",
   "metadata": {},
   "outputs": [
    {
     "data": {
      "text/plain": [
       "StandardScaler()"
      ]
     },
     "execution_count": 9,
     "metadata": {},
     "output_type": "execute_result"
    }
   ],
   "source": [
    "sc = StandardScaler()\n",
    "sc.fit(pumpkin.drop(columns=['Class']))"
   ]
  },
  {
   "cell_type": "code",
   "execution_count": 10,
   "id": "7ea9cb42",
   "metadata": {},
   "outputs": [],
   "source": [
    "feature_scaled = sc.transform(pumpkin.drop(columns=['Class']))"
   ]
  },
  {
   "cell_type": "code",
   "execution_count": 11,
   "id": "85c8c534",
   "metadata": {},
   "outputs": [],
   "source": [
    "feature_scaled = pd.DataFrame(feature_scaled, columns=pumpkin.drop(columns=['Class']).columns)"
   ]
  },
  {
   "cell_type": "code",
   "execution_count": 12,
   "id": "a51ebdbf",
   "metadata": {},
   "outputs": [
    {
     "data": {
      "text/html": [
       "<div>\n",
       "<style scoped>\n",
       "    .dataframe tbody tr th:only-of-type {\n",
       "        vertical-align: middle;\n",
       "    }\n",
       "\n",
       "    .dataframe tbody tr th {\n",
       "        vertical-align: top;\n",
       "    }\n",
       "\n",
       "    .dataframe thead th {\n",
       "        text-align: right;\n",
       "    }\n",
       "</style>\n",
       "<table border=\"1\" class=\"dataframe\">\n",
       "  <thead>\n",
       "    <tr style=\"text-align: right;\">\n",
       "      <th></th>\n",
       "      <th>Area</th>\n",
       "      <th>Perimeter</th>\n",
       "      <th>Major_Axis_Length</th>\n",
       "      <th>Minor_Axis_Length</th>\n",
       "      <th>Convex_Area</th>\n",
       "      <th>Equiv_Diameter</th>\n",
       "      <th>Eccentricity</th>\n",
       "      <th>Solidity</th>\n",
       "      <th>Extent</th>\n",
       "      <th>Roundness</th>\n",
       "      <th>Aspect_Ration</th>\n",
       "      <th>Compactness</th>\n",
       "    </tr>\n",
       "  </thead>\n",
       "  <tbody>\n",
       "    <tr>\n",
       "      <th>0</th>\n",
       "      <td>-1.784703</td>\n",
       "      <td>-2.215755</td>\n",
       "      <td>-2.320224</td>\n",
       "      <td>-0.238536</td>\n",
       "      <td>-1.793218</td>\n",
       "      <td>-1.921174</td>\n",
       "      <td>-2.729935</td>\n",
       "      <td>0.202812</td>\n",
       "      <td>0.855406</td>\n",
       "      <td>1.873763</td>\n",
       "      <td>-1.775063</td>\n",
       "      <td>2.197280</td>\n",
       "    </tr>\n",
       "    <tr>\n",
       "      <th>1</th>\n",
       "      <td>-0.294780</td>\n",
       "      <td>-0.568804</td>\n",
       "      <td>-0.700916</td>\n",
       "      <td>0.362089</td>\n",
       "      <td>-0.307244</td>\n",
       "      <td>-0.259343</td>\n",
       "      <td>-0.739163</td>\n",
       "      <td>0.603626</td>\n",
       "      <td>0.359523</td>\n",
       "      <td>0.938377</td>\n",
       "      <td>-0.824864</td>\n",
       "      <td>0.840230</td>\n",
       "    </tr>\n",
       "    <tr>\n",
       "      <th>2</th>\n",
       "      <td>-0.661350</td>\n",
       "      <td>-0.432940</td>\n",
       "      <td>-0.369395</td>\n",
       "      <td>-0.633215</td>\n",
       "      <td>-0.642749</td>\n",
       "      <td>-0.645380</td>\n",
       "      <td>0.310476</td>\n",
       "      <td>-1.085518</td>\n",
       "      <td>0.768380</td>\n",
       "      <td>-0.431615</td>\n",
       "      <td>0.074059</td>\n",
       "      <td>-0.211483</td>\n",
       "    </tr>\n",
       "    <tr>\n",
       "      <th>3</th>\n",
       "      <td>-1.039412</td>\n",
       "      <td>-1.265424</td>\n",
       "      <td>-1.334616</td>\n",
       "      <td>-0.140076</td>\n",
       "      <td>-1.045689</td>\n",
       "      <td>-1.057939</td>\n",
       "      <td>-1.075756</td>\n",
       "      <td>0.202812</td>\n",
       "      <td>0.761812</td>\n",
       "      <td>1.020648</td>\n",
       "      <td>-1.035351</td>\n",
       "      <td>1.098447</td>\n",
       "    </tr>\n",
       "    <tr>\n",
       "      <th>4</th>\n",
       "      <td>-1.065105</td>\n",
       "      <td>-1.209626</td>\n",
       "      <td>-1.293272</td>\n",
       "      <td>-0.229276</td>\n",
       "      <td>-1.045762</td>\n",
       "      <td>-1.086548</td>\n",
       "      <td>-0.934033</td>\n",
       "      <td>-1.285925</td>\n",
       "      <td>-0.295634</td>\n",
       "      <td>0.755950</td>\n",
       "      <td>-0.950840</td>\n",
       "      <td>0.972166</td>\n",
       "    </tr>\n",
       "  </tbody>\n",
       "</table>\n",
       "</div>"
      ],
      "text/plain": [
       "       Area  Perimeter  Major_Axis_Length  Minor_Axis_Length  Convex_Area  \\\n",
       "0 -1.784703  -2.215755          -2.320224          -0.238536    -1.793218   \n",
       "1 -0.294780  -0.568804          -0.700916           0.362089    -0.307244   \n",
       "2 -0.661350  -0.432940          -0.369395          -0.633215    -0.642749   \n",
       "3 -1.039412  -1.265424          -1.334616          -0.140076    -1.045689   \n",
       "4 -1.065105  -1.209626          -1.293272          -0.229276    -1.045762   \n",
       "\n",
       "   Equiv_Diameter  Eccentricity  Solidity    Extent  Roundness  Aspect_Ration  \\\n",
       "0       -1.921174     -2.729935  0.202812  0.855406   1.873763      -1.775063   \n",
       "1       -0.259343     -0.739163  0.603626  0.359523   0.938377      -0.824864   \n",
       "2       -0.645380      0.310476 -1.085518  0.768380  -0.431615       0.074059   \n",
       "3       -1.057939     -1.075756  0.202812  0.761812   1.020648      -1.035351   \n",
       "4       -1.086548     -0.934033 -1.285925 -0.295634   0.755950      -0.950840   \n",
       "\n",
       "   Compactness  \n",
       "0     2.197280  \n",
       "1     0.840230  \n",
       "2    -0.211483  \n",
       "3     1.098447  \n",
       "4     0.972166  "
      ]
     },
     "execution_count": 12,
     "metadata": {},
     "output_type": "execute_result"
    }
   ],
   "source": [
    "feature_scaled.head()"
   ]
  },
  {
   "cell_type": "code",
   "execution_count": 12,
   "id": "552d23ed",
   "metadata": {},
   "outputs": [],
   "source": [
    "le = LabelEncoder()\n",
    "le.fit(pumpkin['Class'])\n",
    "feature_encoded = le.transform(pumpkin['Class'])"
   ]
  },
  {
   "cell_type": "code",
   "execution_count": 13,
   "id": "dc648421",
   "metadata": {},
   "outputs": [],
   "source": [
    "from sklearn.model_selection import train_test_split\n",
    "import matplotlib.pyplot as plt\n",
    "import seaborn as sns\n",
    "%matplotlib inline"
   ]
  },
  {
   "cell_type": "markdown",
   "id": "7bf9ad34",
   "metadata": {},
   "source": [
    "# Not using Cross_Validation"
   ]
  },
  {
   "cell_type": "code",
   "execution_count": 32,
   "id": "c7929e3e",
   "metadata": {},
   "outputs": [],
   "source": [
    "x_train, x_test, y_train, y_test = train_test_split(feature_scaled, feature_encoded, test_size=0.3)"
   ]
  },
  {
   "cell_type": "code",
   "execution_count": 68,
   "id": "acf45609",
   "metadata": {},
   "outputs": [
    {
     "data": {
      "image/png": "[encoded data removed]",
      "text/plain": [
       "<Figure size 864x432 with 1 Axes>"
      ]
     },
     "metadata": {
      "needs_background": "light"
     },
     "output_type": "display_data"
    },
    {
     "name": "stdout",
     "output_type": "stream",
     "text": [
      "Minimum error_rate n_neighbors value: 27\n"
     ]
    }
   ],
   "source": [
    "error_rate = []\n",
    "min_value = 1.0\n",
    "min_i = 0\n",
    "for i in range(1,50):\n",
    "    knc = KNeighborsClassifier(n_neighbors=i)\n",
    "    knc.fit(x_train,y_train)\n",
    "    pred_i = knc.predict(x_test)\n",
    "    error_rate.append(np.mean(pred_i!=y_test))\n",
    "    if(error_rate[i-1] < min_value):\n",
    "        min_i = i\n",
    "        min_value = error_rate[i-1]\n",
    "\n",
    "plt.figure(figsize=(12,6))\n",
    "plt.plot(range(1,50),error_rate,marker='o',color='blue',markerfacecolor='red',markersize=10)\n",
    "plt.show()\n",
    "print('Minimum error_rate n_neighbors value:', min_i)"
   ]
  },
  {
   "cell_type": "code",
   "execution_count": 69,
   "id": "bcbddee8",
   "metadata": {},
   "outputs": [
    {
     "name": "stdout",
     "output_type": "stream",
     "text": [
      "KNeighbors Classifier Accuracy: 0.8773333333333333\n"
     ]
    }
   ],
   "source": [
    "knc = KNeighborsClassifier(n_neighbors=27)\n",
    "knc.fit(x_train,y_train)\n",
    "prediction_knc = knc.predict(x_test)\n",
    "print('KNeighbors Classifier Accuracy:', accuracy_score(y_test,prediction_knc))"
   ]
  },
  {
   "cell_type": "code",
   "execution_count": 70,
   "id": "9ce9caee",
   "metadata": {},
   "outputs": [
    {
     "data": {
      "text/plain": [
       "RandomForestClassifier(n_estimators=600)"
      ]
     },
     "execution_count": 70,
     "metadata": {},
     "output_type": "execute_result"
    }
   ],
   "source": [
    "rfc = RandomForestClassifier(n_estimators=600)\n",
    "rfc.fit(x_train,y_train)"
   ]
  },
  {
   "cell_type": "code",
   "execution_count": 71,
   "id": "abda7235",
   "metadata": {},
   "outputs": [
    {
     "name": "stdout",
     "output_type": "stream",
     "text": [
      "Random Forst Classifier Accuracy: 0.892\n"
     ]
    }
   ],
   "source": [
    "prediction_rfc = rfc.predict(x_test)\n",
    "print('Random Forst Classifier Accuracy:', accuracy_score(y_test,prediction_rfc))"
   ]
  },
  {
   "cell_type": "code",
   "execution_count": 72,
   "id": "b95b1146",
   "metadata": {},
   "outputs": [],
   "source": [
    "lr = LogisticRegression()"
   ]
  },
  {
   "cell_type": "code",
   "execution_count": 73,
   "id": "97d842d9",
   "metadata": {},
   "outputs": [
    {
     "name": "stdout",
     "output_type": "stream",
     "text": [
      "Logistic Regression Accuracy: 0.8773333333333333\n"
     ]
    }
   ],
   "source": [
    "lr.fit(x_train,y_train)\n",
    "prediction_lr = lr.predict(x_test)\n",
    "print('Logistic Regression Accuracy:', accuracy_score(y_test,prediction_lr))"
   ]
  },
  {
   "cell_type": "code",
   "execution_count": 74,
   "id": "c9f2b9e3",
   "metadata": {},
   "outputs": [
    {
     "data": {
      "text/plain": [
       "SVC()"
      ]
     },
     "execution_count": 74,
     "metadata": {},
     "output_type": "execute_result"
    }
   ],
   "source": [
    "svm = SVC()\n",
    "svm.fit(x_train, y_train)"
   ]
  },
  {
   "cell_type": "code",
   "execution_count": 75,
   "id": "ee4ff287",
   "metadata": {},
   "outputs": [
    {
     "name": "stdout",
     "output_type": "stream",
     "text": [
      "Support Vector Machine Accuracy: 0.8906666666666667\n"
     ]
    }
   ],
   "source": [
    "prediction_svm = svm.predict(x_test)\n",
    "print('Support Vector Machine Accuracy:', accuracy_score(y_test,prediction_svm))"
   ]
  },
  {
   "cell_type": "markdown",
   "id": "af76944b",
   "metadata": {},
   "source": [
    "## Random Forest Accuracy is the highest."
   ]
  },
  {
   "cell_type": "markdown",
   "id": "59035946",
   "metadata": {},
   "source": [
    "# Using 10 Fold Cross-Validation"
   ]
  },
  {
   "cell_type": "code",
   "execution_count": 18,
   "id": "dcf4c4f0",
   "metadata": {},
   "outputs": [],
   "source": [
    "from sklearn.model_selection import cross_validate, KFold, cross_val_score"
   ]
  },
  {
   "cell_type": "code",
   "execution_count": 26,
   "id": "e75bbe11",
   "metadata": {},
   "outputs": [],
   "source": [
    "X = feature_scaled\n",
    "y = feature_encoded\n",
    "model_knc = KNeighborsClassifier()\n",
    "k_folds = KFold(n_splits=10)"
   ]
  },
  {
   "cell_type": "code",
   "execution_count": 30,
   "id": "e7154b18",
   "metadata": {},
   "outputs": [
    {
     "name": "stdout",
     "output_type": "stream",
     "text": [
      "Average Score of KNearest-Neighbors: 0.8608\n"
     ]
    }
   ],
   "source": [
    "scores_knc = cross_val_score(model_knc, X,y, cv=k_folds)\n",
    "print('Average Score of KNearest-Neighbors:', np.mean(scores_knc))"
   ]
  },
  {
   "cell_type": "code",
   "execution_count": 28,
   "id": "e3e8e414",
   "metadata": {},
   "outputs": [
    {
     "name": "stdout",
     "output_type": "stream",
     "text": [
      "Average Score of Support Vector Machine: 0.8704000000000001\n"
     ]
    }
   ],
   "source": [
    "model_svm = SVC()\n",
    "scores_svm = cross_val_score(model_svm, X,y, cv=k_folds)\n",
    "print('Average Score of Support Vector Machine:', np.mean(scores_svm))"
   ]
  },
  {
   "cell_type": "code",
   "execution_count": 29,
   "id": "37cfc91b",
   "metadata": {},
   "outputs": [
    {
     "name": "stdout",
     "output_type": "stream",
     "text": [
      "Average Score of Random Forest: 0.8744\n"
     ]
    }
   ],
   "source": [
    "model_rfc = RandomForestClassifier()\n",
    "scores_rfc = cross_val_score(model_rfc, X,y, cv=k_folds)\n",
    "print('Average Score of Random Forest:', np.mean(scores_rfc))"
   ]
  },
  {
   "cell_type": "code",
   "execution_count": 31,
   "id": "325a6862",
   "metadata": {},
   "outputs": [
    {
     "name": "stdout",
     "output_type": "stream",
     "text": [
      "Average Score of Logistic Regression: 0.8540000000000001\n"
     ]
    }
   ],
   "source": [
    "model_lr = LogisticRegression()\n",
    "scores_lr = cross_val_score(model_lr, X,y, cv=k_folds)\n",
    "print('Average Score of Logistic Regression:', np.mean(scores_lr))"
   ]
  },
  {
   "cell_type": "markdown",
   "id": "a8946ed3",
   "metadata": {},
   "source": [
    "## Also Random Forest Classifier is the highest."
   ]
  },
  {
   "cell_type": "code",
   "execution_count": 33,
   "id": "a73eb265",
   "metadata": {},
   "outputs": [
    {
     "ename": "SyntaxError",
     "evalue": "invalid syntax (2275228585.py, line 1)",
     "output_type": "error",
     "traceback": [
      "\u001b[0;36m  Input \u001b[0;32mIn [33]\u001b[0;36m\u001b[0m\n\u001b[0;31m    $git init\u001b[0m\n\u001b[0m    ^\u001b[0m\n\u001b[0;31mSyntaxError\u001b[0m\u001b[0;31m:\u001b[0m invalid syntax\n"
     ]
    }
   ],
   "source": [
    "git init"
   ]
  },
  {
   "cell_type": "code",
   "execution_count": null,
   "id": "a23ccf5c",
   "metadata": {},
   "outputs": [],
   "source": []
  }
 ],
 "metadata": {
  "kernelspec": {
   "display_name": "Python 3 (ipykernel)",
   "language": "python",
   "name": "python3"
  },
  "language_info": {
   "codemirror_mode": {
    "name": "ipython",
    "version": 3
   },
   "file_extension": ".py",
   "mimetype": "text/x-python",
   "name": "python",
   "nbconvert_exporter": "python",
   "pygments_lexer": "ipython3",
   "version": "3.9.12"
  }
 },
 "nbformat": 4,
 "nbformat_minor": 5
}
